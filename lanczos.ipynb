{
 "cells": [
  {
   "cell_type": "code",
   "execution_count": 1,
   "metadata": {},
   "outputs": [],
   "source": [
    "%matplotlib inline"
   ]
  },
  {
   "cell_type": "markdown",
   "metadata": {
    "id": "nzsSd90lECc7"
   },
   "source": [
    "# Introduction\n",
    "\n",
    "The Lanczos algorithm is a direct algorithm devised by Cornelius Lanczos that is an adaptation of power methods to find the $m$ \"most useful\" (tending towards extreme highest/lowest) eigenvalues and eigenvectors of an $n\\times n$ Hermitian matrix, where $m$ is often but not necessarily much smaller than $n$.\n",
    "\n",
    "The following is an implementation of the [standard Lanczos algorithm](https://en.wikipedia.org/wiki/Lanczos_algorithm)."
   ]
  },
  {
   "cell_type": "markdown",
   "metadata": {
    "id": "8atGpd6GEROA"
   },
   "source": [
    "# Import Dependencies\n",
    "\n",
    "We begin by importing the necessary libraries."
   ]
  },
  {
   "cell_type": "code",
   "execution_count": 11,
   "metadata": {
    "id": "FJThaTbXEYCH"
   },
   "outputs": [],
   "source": [
    "# Data Analysis\n",
    "import numpy as np \n",
    "from numpy import linalg as LA\n",
    "\n",
    "# Data Visualization\n",
    "import matplotlib.pyplot as plt\n",
    "import seaborn as sns\n",
    "sns.set()\n",
    "sns.set_style('darkgrid')"
   ]
  },
  {
   "cell_type": "markdown",
   "metadata": {},
   "source": [
    "# Lanczos Algorithm\n",
    "\n",
    "The algorithm proceeds as follows:\n",
    "\n",
    "1. Given a Hermitian matrix $A$ of size $n\\times n$, and an arbitrary vector $v_1$ with Euclidean norm 1, specify a default number of function calls $m=n$\n",
    "2. Let $w_1'$=$Av_1$\n",
    "3. Let $\\alpha_1=w_1'^* v_1$\n",
    "4. Let $w_1=w_1'^*-\\alpha_1 v_1$\n",
    "\n",
    "We refer to steps 2 - 4 as the first iteration steps. Subsequently, \n",
    "\n",
    "5. Let $\\beta_j=||w_{j-1}||$\n",
    "6. If $\\beta_j\\neq0$, let $v_j=\\frac{w_{j-1}}{\\beta_j}$. Else, let $v_j$ be an arbitrary vector with Euclidean norm 1 that is orthogonal to $v_1, ..., v_{j-1}$\n",
    "7. Let $w_j'=Av_j$\n",
    "8. Let $\\alpha_j=w_j'v_j$\n",
    "9. Let $w_j=w_j'-\\alpha_j v_j-\\beta_j v_{j-1}$\n",
    "\n",
    "where $j$ denotes the iteration number, and must satisfy $2\\leq j\\leq m$. Finally, the output is a tridiagonalized matrix $T$ with $\\alpha_1, ..., \\alpha_m$ along the main diagonal, and $\\beta_2, ..., \\beta_m$ along the super- and subdiagonals."
   ]
  },
  {
   "cell_type": "code",
   "execution_count": 14,
   "metadata": {},
   "outputs": [],
   "source": [
    "# Function to tri-diagonalize a matrix\n",
    "def tridiag(a, b, c, k1=-1, k2=0, k3=1):\n",
    "  return np.diag(a, k1) + np.diag(b, k2) + np.diag(c, k3)\n",
    "\n",
    "# Lanczos algorithm\n",
    "def lanczos(A, v1):\n",
    "  np.set_printoptions(precision=3, suppress=True)\n",
    "  # First iteration steps\n",
    "  x, y = [], []\n",
    "  n = A.shape[1]\n",
    "  v2, beta = 0.0, 0.0\n",
    "\n",
    "  for i in range(n):\n",
    "    # Iteration steps (Spar på w)\n",
    "    w_prime = np.dot(A, v1)\n",
    "    conj = np.matrix.conjugate(w_prime)\n",
    "    alpha = np.dot(conj, v1)\n",
    "    w = w_prime - alpha * v1 - beta * v2\n",
    "    beta = np.linalg.norm(w)\n",
    "    x.append(np.linalg.norm(alpha))\n",
    "\n",
    "    # Reset\n",
    "    if i < (n-1):\n",
    "        y.append(beta)\n",
    "    v2 = v1\n",
    "    v1 = w/beta\n",
    "    \n",
    "  return tridiag(y, x, y) #, w_array"
   ]
  },
  {
   "cell_type": "markdown",
   "metadata": {
    "id": "_9tJf2pFFo0J"
   },
   "source": [
    "# Example\n",
    "\n",
    "We test our algorithm on an example where $A=\\text{diag}\\;(0,\\;1,\\;2,\\;3,\\;4,\\;100000)$."
   ]
  },
  {
   "cell_type": "code",
   "execution_count": 17,
   "metadata": {
    "colab": {
     "base_uri": "https://localhost:8080/"
    },
    "id": "p-ZWhR_X-tS6",
    "outputId": "e8195ab1-ef2d-43c9-da55-2e89dd93361c"
   },
   "outputs": [
    {
     "name": "stdout",
     "output_type": "stream",
     "text": [
      "Tridiagonalization of A: \n",
      "[[16668.333 37267.054     0.        0.        0.        0.   ]\n",
      " [37267.054 83333.667     3.464     0.        0.        0.   ]\n",
      " [    0.        3.464     2.        1.183     0.        0.   ]\n",
      " [    0.        0.        1.183     2.        1.015     0.   ]\n",
      " [    0.        0.        0.        1.015   251.746  4991.161]\n",
      " [    0.        0.        0.        0.     4991.161 99750.252]]\n",
      "\n",
      "Associated eigenvalues: \n",
      "[     0.025      1.274      3.975      2.726 100000.     99999.998]\n",
      "\n",
      "Associated eigenvectors: \n",
      "[[ 0.426  0.485  0.426  0.485 -0.408 -0.   ]\n",
      " [-0.191 -0.217 -0.191 -0.217 -0.913 -0.   ]\n",
      " [ 0.652  0.273 -0.652 -0.273 -0.     0.   ]\n",
      " [-0.531  0.467 -0.531  0.467 -0.     0.   ]\n",
      " [ 0.272 -0.652 -0.272  0.652 -0.     0.05 ]\n",
      " [-0.014  0.033  0.014 -0.033 -0.     0.999]]\n"
     ]
    }
   ],
   "source": [
    "A = np.diag([0., 1., 2., 3., 4., 100000.])\n",
    "n = A.shape[1]\n",
    "v_0 = np.zeros(n)\n",
    "v_0.fill(1.)\n",
    "v = v_0 / np.linalg.norm(v_0)\n",
    "\n",
    "# Obtaining the tri-diagonal matrix T\n",
    "T = lanczos(A, v)\n",
    "print(f'Tridiagonalization of A: \\n{T}')\n",
    "\n",
    "# Finding the eigenvalues w and eigenvectors v of the tri-diagonal matrix\n",
    "w, v = LA.eig(T)\n",
    "print(f'\\nAssociated eigenvalues: \\n{w}')\n",
    "print(f'\\nAssociated eigenvectors: \\n{v}')"
   ]
  },
  {
   "cell_type": "markdown",
   "metadata": {},
   "source": [
    "Let's visualize the eigenvalue convergence as a function of the number of iterations."
   ]
  },
  {
   "cell_type": "code",
   "execution_count": 20,
   "metadata": {},
   "outputs": [
    {
     "data": {
      "image/png": "[encoded data removed]",
      "text/plain": [
       "<Figure size 640x480 with 1 Axes>"
      ]
     },
     "metadata": {},
     "output_type": "display_data"
    }
   ],
   "source": [
    "plt.plot(w)\n",
    "plt.xlabel('Iterations')\n",
    "plt.ylabel('Eigenvalues')\n",
    "plt.show()"
   ]
  },
  {
   "cell_type": "code",
   "execution_count": 158,
   "metadata": {},
   "outputs": [
    {
     "name": "stdout",
     "output_type": "stream",
     "text": [
      "Random matrix A:\n",
      " [[0.254 0.571 0.924 ... 0.024 0.013 0.266]\n",
      " [0.162 0.497 0.783 ... 0.038 0.845 0.582]\n",
      " [0.21  0.028 0.862 ... 0.78  0.719 0.072]\n",
      " ...\n",
      " [0.432 0.741 0.998 ... 0.64  0.76  0.312]\n",
      " [0.862 0.278 0.074 ... 0.563 0.182 0.567]\n",
      " [0.54  0.216 0.491 ... 0.171 0.774 0.347]]\n",
      "\n",
      "Random initial vector x:\n",
      " [0.01  0.052 0.027 0.081 0.025 0.015 0.096 0.016 0.033 0.035 0.115 0.024\n",
      " 0.086 0.106 0.009 0.047 0.087 0.05  0.002 0.115 0.05  0.124 0.109 0.01\n",
      " 0.015 0.012 0.058 0.068 0.073 0.063 0.136 0.092 0.005 0.008 0.094 0.091\n",
      " 0.028 0.017 0.138 0.08  0.018 0.021 0.005 0.127 0.008 0.019 0.067 0.062\n",
      " 0.138 0.048 0.052 0.136 0.025 0.118 0.062 0.134 0.059 0.011 0.134 0.035\n",
      " 0.135 0.008 0.066 0.082 0.039 0.016 0.117 0.06  0.115 0.101 0.133 0.137\n",
      " 0.01  0.099 0.07  0.034 0.133 0.093 0.067 0.045 0.139 0.045 0.02  0.023\n",
      " 0.09  0.048 0.077 0.041 0.099 0.029 0.08  0.021 0.13  0.064 0.127 0.019\n",
      " 0.04  0.135 0.138 0.098 0.02  0.107 0.118 0.107 0.123 0.136 0.125 0.106\n",
      " 0.137 0.075 0.131 0.056 0.002 0.061 0.115 0.025 0.067 0.079 0.134 0.063\n",
      " 0.042 0.129 0.067 0.073 0.012 0.037 0.135 0.073 0.035 0.1   0.089 0.123\n",
      " 0.101 0.022 0.01  0.064 0.05  0.13  0.135 0.1   0.006 0.01  0.053 0.037\n",
      " 0.04  0.084 0.001 0.095 0.088 0.03 ]\n"
     ]
    }
   ],
   "source": [
    "# Choose n (size of the matrix)\n",
    "n = 150  \n",
    "\n",
    "# Generate a random n x n matrix (non-Hermitian)\n",
    "A = np.random.rand(n, n)\n",
    "\n",
    "# Generate a random initial vector x\n",
    "x = np.random.rand(n)\n",
    "\n",
    "# Normalize x to have unit Euclidean norm\n",
    "x = x / np.linalg.norm(x)\n",
    "\n",
    "print(\"Random matrix A:\\n\", A)\n",
    "print(\"\\nRandom initial vector x:\\n\", x)"
   ]
  },
  {
   "cell_type": "code",
   "execution_count": 231,
   "metadata": {},
   "outputs": [
    {
     "name": "stdout",
     "output_type": "stream",
     "text": [
      "\n",
      "Hermitian matrix A:\n",
      " [[0.254 0.366 0.567 ... 0.228 0.438 0.403]\n",
      " [0.366 0.497 0.405 ... 0.39  0.562 0.399]\n",
      " [0.567 0.405 0.862 ... 0.889 0.397 0.281]\n",
      " ...\n",
      " [0.228 0.39  0.889 ... 0.64  0.662 0.242]\n",
      " [0.438 0.562 0.397 ... 0.662 0.182 0.67 ]\n",
      " [0.403 0.399 0.281 ... 0.242 0.67  0.347]]\n"
     ]
    }
   ],
   "source": [
    "# Convert A to a Hermitian matrix\n",
    "A = 0.5 * (A + np.conj(A.T))  # If A is real, A^* is just A.T\n",
    "\n",
    "print(\"\\nHermitian matrix A:\\n\", A)"
   ]
  },
  {
   "cell_type": "code",
   "execution_count": 233,
   "metadata": {},
   "outputs": [
    {
     "name": "stdout",
     "output_type": "stream",
     "text": [
      "\n",
      "Tridiagonal matrix T:\n",
      " [[53.69  34.252  0.     0.     0.     0.     0.     0.     0.     0.\n",
      "   0.     0.     0.     0.     0.     0.     0.     0.     0.     0.\n",
      "   0.     0.     0.     0.     0.   ]\n",
      " [34.252 21.309  2.838  0.     0.     0.     0.     0.     0.     0.\n",
      "   0.     0.     0.     0.     0.     0.     0.     0.     0.     0.\n",
      "   0.     0.     0.     0.     0.   ]\n",
      " [ 0.     2.838  0.142  2.491  0.     0.     0.     0.     0.     0.\n",
      "   0.     0.     0.     0.     0.     0.     0.     0.     0.     0.\n",
      "   0.     0.     0.     0.     0.   ]\n",
      " [ 0.     0.     2.491  0.106  2.233  0.     0.     0.     0.     0.\n",
      "   0.     0.     0.     0.     0.     0.     0.     0.     0.     0.\n",
      "   0.     0.     0.     0.     0.   ]\n",
      " [ 0.     0.     0.     2.233  0.077  2.532  0.     0.     0.     0.\n",
      "   0.     0.     0.     0.     0.     0.     0.     0.     0.     0.\n",
      "   0.     0.     0.     0.     0.   ]\n",
      " [ 0.     0.     0.     0.     2.532  0.06   2.615  0.     0.     0.\n",
      "   0.     0.     0.     0.     0.     0.     0.     0.     0.     0.\n",
      "   0.     0.     0.     0.     0.   ]\n",
      " [ 0.     0.     0.     0.     0.     2.615  0.381  2.487  0.     0.\n",
      "   0.     0.     0.     0.     0.     0.     0.     0.     0.     0.\n",
      "   0.     0.     0.     0.     0.   ]\n",
      " [ 0.     0.     0.     0.     0.     0.     2.487  0.279  2.202  0.\n",
      "   0.     0.     0.     0.     0.     0.     0.     0.     0.     0.\n",
      "   0.     0.     0.     0.     0.   ]\n",
      " [ 0.     0.     0.     0.     0.     0.     0.     2.202  0.371  2.419\n",
      "   0.     0.     0.     0.     0.     0.     0.     0.     0.     0.\n",
      "   0.     0.     0.     0.     0.   ]\n",
      " [ 0.     0.     0.     0.     0.     0.     0.     0.     2.419  0.419\n",
      "   2.21   0.     0.     0.     0.     0.     0.     0.     0.     0.\n",
      "   0.     0.     0.     0.     0.   ]\n",
      " [ 0.     0.     0.     0.     0.     0.     0.     0.     0.     2.21\n",
      "   0.128  2.41   0.     0.     0.     0.     0.     0.     0.     0.\n",
      "   0.     0.     0.     0.     0.   ]\n",
      " [ 0.     0.     0.     0.     0.     0.     0.     0.     0.     0.\n",
      "   2.41   0.282  2.303  0.     0.     0.     0.     0.     0.     0.\n",
      "   0.     0.     0.     0.     0.   ]\n",
      " [ 0.     0.     0.     0.     0.     0.     0.     0.     0.     0.\n",
      "   0.     2.303  0.197  3.008  0.     0.     0.     0.     0.     0.\n",
      "   0.     0.     0.     0.     0.   ]\n",
      " [ 0.     0.     0.     0.     0.     0.     0.     0.     0.     0.\n",
      "   0.     0.     3.008 21.164 33.999  0.     0.     0.     0.     0.\n",
      "   0.     0.     0.     0.     0.   ]\n",
      " [ 0.     0.     0.     0.     0.     0.     0.     0.     0.     0.\n",
      "   0.     0.     0.    33.999 53.887  3.63   0.     0.     0.     0.\n",
      "   0.     0.     0.     0.     0.   ]\n",
      " [ 0.     0.     0.     0.     0.     0.     0.     0.     0.     0.\n",
      "   0.     0.     0.     0.     3.63   0.105  2.309  0.     0.     0.\n",
      "   0.     0.     0.     0.     0.   ]\n",
      " [ 0.     0.     0.     0.     0.     0.     0.     0.     0.     0.\n",
      "   0.     0.     0.     0.     0.     2.309  0.441  2.46   0.     0.\n",
      "   0.     0.     0.     0.     0.   ]\n",
      " [ 0.     0.     0.     0.     0.     0.     0.     0.     0.     0.\n",
      "   0.     0.     0.     0.     0.     0.     2.46   0.366  2.393  0.\n",
      "   0.     0.     0.     0.     0.   ]\n",
      " [ 0.     0.     0.     0.     0.     0.     0.     0.     0.     0.\n",
      "   0.     0.     0.     0.     0.     0.     0.     2.393  0.001  2.367\n",
      "   0.     0.     0.     0.     0.   ]\n",
      " [ 0.     0.     0.     0.     0.     0.     0.     0.     0.     0.\n",
      "   0.     0.     0.     0.     0.     0.     0.     0.     2.367  0.157\n",
      "   2.31   0.     0.     0.     0.   ]\n",
      " [ 0.     0.     0.     0.     0.     0.     0.     0.     0.     0.\n",
      "   0.     0.     0.     0.     0.     0.     0.     0.     0.     2.31\n",
      "   0.17   2.398  0.     0.     0.   ]\n",
      " [ 0.     0.     0.     0.     0.     0.     0.     0.     0.     0.\n",
      "   0.     0.     0.     0.     0.     0.     0.     0.     0.     0.\n",
      "   2.398  0.131  2.558  0.     0.   ]\n",
      " [ 0.     0.     0.     0.     0.     0.     0.     0.     0.     0.\n",
      "   0.     0.     0.     0.     0.     0.     0.     0.     0.     0.\n",
      "   0.     2.558  0.406  2.136  0.   ]\n",
      " [ 0.     0.     0.     0.     0.     0.     0.     0.     0.     0.\n",
      "   0.     0.     0.     0.     0.     0.     0.     0.     0.     0.\n",
      "   0.     0.     2.136  0.289  2.174]\n",
      " [ 0.     0.     0.     0.     0.     0.     0.     0.     0.     0.\n",
      "   0.     0.     0.     0.     0.     0.     0.     0.     0.     0.\n",
      "   0.     0.     0.     2.174  0.522]]\n"
     ]
    }
   ],
   "source": [
    "# Define k (much smaller than n)\n",
    "k = 25  # Typically k << n\n",
    "\n",
    "# Reusing the Lanczos algorithm from before\n",
    "T = lanczos(A, x)[:k, :k]  # Extract the first k x k part of the matrix\n",
    "\n",
    "print(\"\\nTridiagonal matrix T:\\n\", T)"
   ]
  },
  {
   "cell_type": "code",
   "execution_count": 235,
   "metadata": {},
   "outputs": [
    {
     "name": "stdout",
     "output_type": "stream",
     "text": [
      "\n",
      "Eigenvalues of A:\n",
      " [-4.732 -4.606 -4.552 -4.373 -4.21  -4.144 -3.993 -3.955 -3.858 -3.764\n",
      " -3.676 -3.636 -3.572 -3.527 -3.488 -3.358 -3.341 -3.259 -3.242 -3.074\n",
      " -3.038 -2.969 -2.885 -2.804 -2.762 -2.705 -2.676 -2.548 -2.525 -2.456\n",
      " -2.35  -2.322 -2.28  -2.24  -2.194 -2.137 -2.041 -1.996 -1.959 -1.903\n",
      " -1.871 -1.781 -1.759 -1.689 -1.617 -1.527 -1.509 -1.396 -1.39  -1.323\n",
      " -1.276 -1.232 -1.217 -1.092 -1.087 -1.043 -1.032 -0.857 -0.787 -0.755\n",
      " -0.699 -0.673 -0.601 -0.571 -0.477 -0.461 -0.439 -0.409 -0.313 -0.288\n",
      " -0.272 -0.109 -0.063 -0.06  -0.037  0.036  0.13   0.149  0.196  0.241\n",
      "  0.271  0.374  0.404  0.459  0.493  0.522  0.652  0.683  0.714  0.777\n",
      "  0.813  0.903  0.938  0.953  0.985  1.077  1.147  1.165  1.237  1.281\n",
      "  1.304  1.37   1.489  1.516  1.574  1.647  1.68   1.699  1.773  1.824\n",
      "  1.902  1.91   2.016  2.052  2.066  2.126  2.177  2.262  2.35   2.451\n",
      "  2.517  2.633  2.679  2.696  2.792  2.836  2.947  3.001  3.08   3.103\n",
      "  3.214  3.278  3.316  3.399  3.508  3.576  3.657  3.736  3.793  3.888\n",
      "  3.942  3.978  4.053  4.304  4.383  4.485  4.557  4.639  4.871 75.416]\n",
      "\n",
      "Eigenvalues of T:\n",
      " [-4.536 -4.429 -4.211 -3.825 -3.59  -3.145 -2.651 -2.139 -1.638 -1.058\n",
      " -0.434  0.123  0.791  1.41   2.008  2.442  3.129  3.453  3.933  4.304\n",
      "  4.549  4.809  4.954 75.416 75.416]\n"
     ]
    }
   ],
   "source": [
    "# Compute eigenvalues of A\n",
    "eig_A, _ = LA.eig(A)\n",
    "\n",
    "# Compute eigenvalues of T\n",
    "eig_T, _ = LA.eig(T)\n",
    "\n",
    "print(\"\\nEigenvalues of A:\\n\", np.sort(eig_A))  # Sorted for better comparison\n",
    "print(\"\\nEigenvalues of T:\\n\", np.sort(eig_T))"
   ]
  },
  {
   "cell_type": "code",
   "execution_count": 237,
   "metadata": {},
   "outputs": [
    {
     "data": {
      "image/png": "[encoded data removed]",
      "text/plain": [
       "<Figure size 800x500 with 1 Axes>"
      ]
     },
     "metadata": {},
     "output_type": "display_data"
    }
   ],
   "source": [
    "plt.figure(figsize=(8,5))\n",
    "\n",
    "# Plot all eigenvalues of A\n",
    "plt.scatter(range(1, len(eig_A) + 1), np.sort(eig_A), label=\"Eigenvalues of A\", color='b', marker='o')\n",
    "\n",
    "# Plot eigenvalues of T\n",
    "plt.scatter(range(1, len(eig_T) + 1), np.sort(eig_T), label=\"Eigenvalues of T\", color='r', marker='x')\n",
    "\n",
    "plt.xlabel(\"Index\")\n",
    "plt.ylabel(\"Eigenvalue\")\n",
    "plt.title(\"Comparison of Eigenvalues (A vs. T)\")\n",
    "plt.legend()\n",
    "plt.grid(True)\n",
    "plt.show()"
   ]
  },
  {
   "cell_type": "code",
   "execution_count": 239,
   "metadata": {},
   "outputs": [
    {
     "name": "stdout",
     "output_type": "stream",
     "text": [
      "-------------------- First Values --------------------\n",
      "\n",
      "First Eigenvalue for A:\n",
      " -4.731789067293855\n",
      "\n",
      "First Eigenvalue for T:\n",
      " -4.535719676874489\n",
      "-------------------- Last Values --------------------\n",
      "\n",
      "Last Eigenvalue for A:\n",
      " 75.41580137080436\n",
      "\n",
      "Last Eigenvalue for T:\n",
      " 75.41615086710559\n"
     ]
    }
   ],
   "source": [
    "print(\"-\" * 20 + \" First Values \" + \"-\" * 20)\n",
    "print(\"\\nFirst Eigenvalue for A:\\n\", np.sort(eig_A)[0])\n",
    "print(\"\\nFirst Eigenvalue for T:\\n\", np.sort(eig_T)[0])\n",
    "\n",
    "print(\"-\" * 20 + \" Last Values \" + \"-\" * 20)\n",
    "print(\"\\nLast Eigenvalue for A:\\n\", np.sort(eig_A)[-1])\n",
    "print(\"\\nLast Eigenvalue for T:\\n\", np.sort(eig_T)[-1])\n"
   ]
  },
  {
   "cell_type": "code",
   "execution_count": 241,
   "metadata": {},
   "outputs": [
    {
     "name": "stdout",
     "output_type": "stream",
     "text": [
      "[-4.732 -4.606 -4.552 -4.373 -4.21 ]\n"
     ]
    }
   ],
   "source": [
    "print(np.sort(eig_A)[0:5])"
   ]
  },
  {
   "cell_type": "code",
   "execution_count": 243,
   "metadata": {},
   "outputs": [
    {
     "name": "stdout",
     "output_type": "stream",
     "text": [
      "[-4.536 -4.429 -4.211 -3.825 -3.59 ]\n"
     ]
    }
   ],
   "source": [
    "print(np.sort(eig_T)[0:5])"
   ]
  },
  {
   "cell_type": "code",
   "execution_count": 245,
   "metadata": {},
   "outputs": [
    {
     "name": "stdout",
     "output_type": "stream",
     "text": [
      "[ 4.485  4.557  4.639  4.871 75.416]\n"
     ]
    }
   ],
   "source": [
    "print(np.sort(eig_A)[(n-5):n])"
   ]
  },
  {
   "cell_type": "code",
   "execution_count": 247,
   "metadata": {},
   "outputs": [
    {
     "name": "stdout",
     "output_type": "stream",
     "text": [
      "[ 4.549  4.809  4.954 75.416 75.416]\n"
     ]
    }
   ],
   "source": [
    "print(np.sort(eig_T)[(k-5):k])"
   ]
  },
  {
   "cell_type": "code",
   "execution_count": 271,
   "metadata": {},
   "outputs": [
    {
     "data": {
      "text/plain": [
       "6607.492590812457"
      ]
     },
     "execution_count": 271,
     "metadata": {},
     "output_type": "execute_result"
    }
   ],
   "source": [
    "np.trace(np.matmul(np.conj(A.T), A))"
   ]
  },
  {
   "cell_type": "code",
   "execution_count": 273,
   "metadata": {},
   "outputs": [
    {
     "data": {
      "text/plain": [
       "6607.492590812457"
      ]
     },
     "execution_count": 273,
     "metadata": {},
     "output_type": "execute_result"
    }
   ],
   "source": [
    "np.sum(np.conj(A)*A)"
   ]
  },
  {
   "cell_type": "code",
   "execution_count": null,
   "metadata": {},
   "outputs": [],
   "source": []
  }
 ],
 "metadata": {
  "colab": {
   "name": "lanczos.ipynb",
   "provenance": []
  },
  "kernelspec": {
   "display_name": "Python [conda env:base] *",
   "language": "python",
   "name": "conda-base-py"
  },
  "language_info": {
   "codemirror_mode": {
    "name": "ipython",
    "version": 3
   },
   "file_extension": ".py",
   "mimetype": "text/x-python",
   "name": "python",
   "nbconvert_exporter": "python",
   "pygments_lexer": "ipython3",
   "version": "3.11.5"
  },
  "vscode": {
   "interpreter": {
    "hash": "0dfdbe1672df692d1ff8d00fafe485d101e8bd6d9385d4cf89c1a47d2ad19645"
   }
  }
 },
 "nbformat": 4,
 "nbformat_minor": 4
}
